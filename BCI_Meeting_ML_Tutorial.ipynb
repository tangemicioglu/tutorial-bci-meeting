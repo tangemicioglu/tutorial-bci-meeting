{
  "nbformat": 4,
  "nbformat_minor": 0,
  "metadata": {
    "colab": {
      "provenance": [],
      "private_outputs": true,
      "authorship_tag": "ABX9TyMy98LXFLS04C/zmG07D7SD",
      "include_colab_link": true
    },
    "kernelspec": {
      "name": "python3",
      "display_name": "Python 3"
    },
    "language_info": {
      "name": "python"
    }
  },
  "cells": [
    {
      "cell_type": "markdown",
      "metadata": {
        "id": "view-in-github",
        "colab_type": "text"
      },
      "source": [
        "<a href=\"https://colab.research.google.com/github/tangemicioglu/tutorial-bci-meeting/blob/main/BCI_Meeting_ML_Tutorial.ipynb\" target=\"_parent\"><img src=\"https://colab.research.google.com/assets/colab-badge.svg\" alt=\"Open In Colab\"/></a>"
      ]
    },
    {
      "cell_type": "markdown",
      "source": [
        "# BCI Meeting ML Tutorial"
      ],
      "metadata": {
        "id": "IOKO5QklVEOb"
      }
    },
    {
      "cell_type": "code",
      "execution_count": null,
      "metadata": {
        "id": "-p5KOlHEixzb"
      },
      "outputs": [],
      "source": [
        "!pip install mne\n",
        "!pip install mne-bids\n",
        "# Imports\n",
        "import os.path as op\n",
        "import numpy as np\n",
        "import matplotlib.pyplot as plt\n",
        "import sklearn\n",
        "import mne\n",
        "import mne_bids"
      ]
    },
    {
      "cell_type": "markdown",
      "source": [
        "### Loading and Understanding Data"
      ],
      "metadata": {
        "id": "3Ueb53V2VD0-"
      }
    },
    {
      "cell_type": "code",
      "source": [
        "# Loading data is easier if you are processing locally\n",
        "# RUN THIS BEFORE STARTING BREAK\n",
        "!git clone https://gin.g-node.org/sappelhoff/eeg_matchingpennies.git\n",
        "!wget -P eeg_matchingpennies/sub-05/eeg/ https://gin.g-node.org/sappelhoff/eeg_matchingpennies/raw/master/sub-05/eeg/sub-05_task-matchingpennies_eeg.eeg"
      ],
      "metadata": {
        "id": "MgSl-l9lVm4X"
      },
      "execution_count": null,
      "outputs": []
    },
    {
      "cell_type": "code",
      "source": [
        "# There are non-MNE, lighter approaches if you have the time to implement a more specific data loader.\n",
        "bids_root = \"eeg_matchingpennies\"\n",
        "bids_path = mne_bids.BIDSPath(root=bids_root, subject=\"05\",\n",
        "                              task=\"matchingpennies\", datatype=\"eeg\", suffix=\"eeg\")\n",
        "eeg_raw = mne_bids.read_raw_bids(bids_path, verbose=False)\n",
        "eeg_raw.load_data()"
      ],
      "metadata": {
        "id": "W9NbDFX_GzZE"
      },
      "execution_count": null,
      "outputs": []
    },
    {
      "cell_type": "code",
      "source": [
        "eeg_raw.plot(start=10,duration=20)\n",
        "\n",
        "# TASK: Make the plots fit within the visualization\n",
        "raise NotImplementedError(\"Task not completed!\")\n",
        "\n",
        "# TASK: Plot the data with a 0.1Hz (or frequency of your preference) high-pass filter\n",
        "raise NotImplementedError(\"Task not completed!\")\n"
      ],
      "metadata": {
        "id": "dbyQFmw-XYvJ"
      },
      "execution_count": null,
      "outputs": []
    },
    {
      "cell_type": "markdown",
      "source": [
        "### Pre-Processing"
      ],
      "metadata": {
        "id": "WW7pWaEBVngR"
      }
    },
    {
      "cell_type": "code",
      "source": [
        "# Apply high-pass filter\n",
        "eeg_raw.filter(l_freq=0.1, h_freq=None, fir_design=\"firwin\", verbose=False)\n",
        "\n",
        "# Epoch data based on events\n",
        "id_dict = {\"raised-left/match-true\": 0, \"raised-left/match-false\": 0, \"raised-right/match-true\": 1, \"raised-right/match-false\": 1}\n",
        "events, event_ids = mne.events_from_annotations(eeg_raw, event_id=id_dict, verbose=False)\n",
        "tmin, tmax = 0, 4  # in s\n",
        "baseline = None\n",
        "eeg_epochs = mne.Epochs(\n",
        "    eeg_raw,\n",
        "    events=events,\n",
        "    event_id=event_ids,\n",
        "    tmin=tmin,\n",
        "    tmax=tmax,\n",
        "    baseline=baseline,\n",
        "    verbose=False,\n",
        ")\n",
        "eeg_epochs.plot(n_epochs=10, picks=['eeg'])\n",
        "\n",
        "eeg_clf = eeg_epochs.get_data()\n",
        "marker_clf = eeg_epochs.events[:,-1]\n",
        "\n",
        "# TASK: Modify the above code to include a second from before event\n",
        "raise NotImplementedError(\"Task not completed!\")"
      ],
      "metadata": {
        "id": "cil5o7auVn1c"
      },
      "execution_count": null,
      "outputs": []
    },
    {
      "cell_type": "markdown",
      "source": [
        "### Dimensionality Reduction via Principal Component Analysis"
      ],
      "metadata": {
        "id": "QA08WwuJWE32"
      }
    },
    {
      "cell_type": "code",
      "source": [
        "from sklearn.decomposition import PCA\n",
        "\n",
        "print(eeg_clf.shape)\n",
        "print(marker_clf.shape)\n",
        "\n",
        "eeg_clf = eeg_clf.reshape(300,200010)\n",
        "\n",
        "print(eeg_clf.shape)\n",
        "\n",
        "pca = PCA(n_components=10)\n",
        "\n",
        "eeg_clf_pca = pca.fit_transform(eeg_clf)\n",
        "\n",
        "# TASK: Modify the above code to have 9 components\n",
        "raise NotImplementedError(\"Task not completed!\")"
      ],
      "metadata": {
        "id": "PBjqWwlxWOgh"
      },
      "execution_count": null,
      "outputs": []
    },
    {
      "cell_type": "markdown",
      "source": [
        "### Classification via Support Vector Machines"
      ],
      "metadata": {
        "id": "bR_vYFy8X38M"
      }
    },
    {
      "cell_type": "code",
      "source": [
        "from sklearn.model_selection import train_test_split\n",
        "from sklearn import svm\n",
        "\n",
        "svm = svm.SVC(kernel=\"rbf\", C=1, gamma=1)\n",
        "\n",
        "\n",
        "\n",
        "# TASK: Optimize your SVM parameters\n",
        "raise NotImplementedError(\"Task not completed!\")"
      ],
      "metadata": {
        "id": "4ndmibGdYTEl"
      },
      "execution_count": null,
      "outputs": []
    },
    {
      "cell_type": "markdown",
      "source": [
        "### Pipelines and Validation"
      ],
      "metadata": {
        "id": "Ua96V4uaYTPM"
      }
    },
    {
      "cell_type": "code",
      "source": [],
      "metadata": {
        "id": "ajlmscOQYVHb"
      },
      "execution_count": null,
      "outputs": []
    },
    {
      "cell_type": "markdown",
      "source": [
        "### Classification via Artificial Neural Networks"
      ],
      "metadata": {
        "id": "aB6EeVyfYVvP"
      }
    },
    {
      "cell_type": "code",
      "source": [],
      "metadata": {
        "id": "7-jR0MByYwYd"
      },
      "execution_count": null,
      "outputs": []
    }
  ]
}